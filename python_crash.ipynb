{
 "cells": [
  {
   "metadata": {
    "ExecuteTime": {
     "end_time": "2025-10-08T11:45:27.906500Z",
     "start_time": "2025-10-08T11:45:27.901753Z"
    }
   },
   "cell_type": "code",
   "source": "import re",
   "id": "e771fb29c7e359f1",
   "outputs": [],
   "execution_count": 3
  },
  {
   "metadata": {
    "ExecuteTime": {
     "end_time": "2025-10-08T12:06:04.419884Z",
     "start_time": "2025-10-08T12:06:04.413701Z"
    }
   },
   "cell_type": "code",
   "source": [
    "text=(\"Full Name: John Doe; Father’s Name: Ahmad Khan; Date of Birth: 1990-01-01; Gender: Male; Nationality: Pakistani; CNIC: 00000-0000000-0 (DUMMY); Passport No: P0000000 (DUMMY); Address: 123 Example Street, Gulberg, Lahore, Punjab, Pakistan; Phone: +92-300-0000000 (DUMMY); Alternate Phone: +92-301-0000001 (DUMMY); Email: john.doe@example.com; Profession: Software Engineer; Employer: ExampleTech Pvt Ltd; Job Title: Senior Backend Developer; Highest Education: BS Computer Science, University of Lahore (2012–2016); Skills: Python, JavaScript, SQL, Machine Learning; Marital Status: Single; Emergency Contact: Ali Khan — +92-300-1111111; LinkedIn: linkedin.com/in/johndoe (DUMMY); Twitter: @johndoe (DUMMY); Personal Website: https://www.johndoe-example.com (DUMMY); Bank: Bank of Example — Account No: 000000000000 (DUMMY); Tax ID: 000-00-0000 (DUMMY); Vehicle: Toyota Corolla 2018 — Plate: ABC-1234 (DUMMY); Allergies/Medical: None listed; Notes: All information above is fictitious and for testing/placeholder use only — not to be used for real identification.\")\n",
    "\n",
    "\n",
    "pattern=r'\\+\\d{2}-\\d{3}-\\d{7}'\n",
    "email_pattern=r'[a-z0-9A-Z]*@[a-zA-Z]*\\.[a-zA-Z]*'\n",
    "\n",
    "phoneNO=re.findall(pattern,text)\n",
    "emails=re.findall(email_pattern,text)\n",
    "\n",
    "for phone,email in zip(phoneNO,emails):\n",
    "    print(phone,email)\n",
    "\n"
   ],
   "id": "24e949df98f7a68d",
   "outputs": [
    {
     "name": "stdout",
     "output_type": "stream",
     "text": [
      "+92-300-0000000 doe@example.com\n"
     ]
    }
   ],
   "execution_count": 10
  },
  {
   "metadata": {},
   "cell_type": "raw",
   "source": "Extract all twitter handles from following text. Twitter handle is the text that appears after https://twitter.com/ and is a single word. Also it contains only alpha numeric characters i.e. A-Z a-z , o to 9 and underscore _",
   "id": "fb946ef367be0e67"
  },
  {
   "metadata": {
    "ExecuteTime": {
     "end_time": "2025-10-08T12:50:32.485258Z",
     "start_time": "2025-10-08T12:50:32.478101Z"
    }
   },
   "cell_type": "code",
   "source": [
    "\n",
    "\n",
    "text = '''\n",
    "Follow our leader Elon musk on twitter here: https://twitter.com/elonmusk, more information\n",
    "on Tesla's products can be found at https://www.tesla.com/. Also here are leading influencers\n",
    "for tesla related news,\n",
    "https://twitter.com/teslarati\n",
    "https://twitter.com/dummy_tesla\n",
    "https://twitter.com/dummy_2_tesla\n",
    "'''\n",
    "pattern = r\"https:\\/\\/[a-z]*.[a-z]*\\/([a-z_0-9]*)\"\n",
    "\n",
    "handles=re.findall(pattern, text)\n",
    "for handle in handles:\n",
    "    print(handle)"
   ],
   "id": "aa2002b3165d9e38",
   "outputs": [
    {
     "name": "stdout",
     "output_type": "stream",
     "text": [
      "elonmusk\n",
      "teslarati\n",
      "dummy_tesla\n",
      "dummy_2_tesla\n"
     ]
    }
   ],
   "execution_count": 16
  },
  {
   "metadata": {},
   "cell_type": "raw",
   "source": [
    "Extract Concentration Risk Types. It will be a text that appears after \"Concentration Risk:\", In below example, your regex should extract these two strings\n",
    "\n",
    "(1) Credit Risk\n",
    "\n",
    "(2) Supply Rish"
   ],
   "id": "f452b6cbeee986b1"
  },
  {
   "metadata": {
    "ExecuteTime": {
     "end_time": "2025-10-08T12:57:00.380155Z",
     "start_time": "2025-10-08T12:57:00.372160Z"
    }
   },
   "cell_type": "code",
   "source": [
    "text = '''Concentration of Risk: Credit Risk\n",
    "Financial instruments that potentially subject us to a concentration of credit risk consist of cash, cash equivalents, marketable securities,\n",
    "restricted cash, accounts receivable, convertible note hedges, and interest rate swaps. Our cash balances are primarily invested in money market funds\n",
    "or on deposit at high credit quality financial institutions in the U.S. These deposits are typically in excess of insured limits. As of September 30, 2021\n",
    "and December 31, 2020, no entity represented 10% or more of our total accounts receivable balance. The risk of concentration for our convertible note\n",
    "hedges and interest rate swaps is mitigated by transacting with several highly-rated multinational banks.\n",
    "Concentration of Risk: Supply Risk\n",
    "We are dependent on our suppliers, including single source suppliers, and the inability of these suppliers to deliver necessary components of our\n",
    "products in a timely manner at prices, quality levels and volumes acceptable to us, or our inability to efficiently manage these components from these\n",
    "suppliers, could have a material adverse effect on our business, prospects, financial condition and operating results.'''\n",
    "pattern = r'[a-z]*: ([a-zA-Z]* [a-zA-Z]*)'\n",
    "\n",
    "RiskTypes=re.findall(pattern, text)\n",
    "for RiskType in RiskTypes:\n",
    "    print(RiskType)"
   ],
   "id": "4722082a7cc9156f",
   "outputs": [
    {
     "name": "stdout",
     "output_type": "stream",
     "text": [
      "Credit Risk\n",
      "Supply Risk\n"
     ]
    }
   ],
   "execution_count": 23
  }
 ],
 "metadata": {
  "kernelspec": {
   "display_name": "Python 3",
   "language": "python",
   "name": "python3"
  },
  "language_info": {
   "codemirror_mode": {
    "name": "ipython",
    "version": 2
   },
   "file_extension": ".py",
   "mimetype": "text/x-python",
   "name": "python",
   "nbconvert_exporter": "python",
   "pygments_lexer": "ipython2",
   "version": "2.7.6"
  }
 },
 "nbformat": 4,
 "nbformat_minor": 5
}
