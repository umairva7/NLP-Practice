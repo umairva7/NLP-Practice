{
 "cells": [
  {
   "metadata": {
    "ExecuteTime": {
     "end_time": "2025-10-08T11:45:27.906500Z",
     "start_time": "2025-10-08T11:45:27.901753Z"
    }
   },
   "cell_type": "code",
   "source": "import re",
   "id": "e771fb29c7e359f1",
   "outputs": [],
   "execution_count": 3
  },
  {
   "metadata": {
    "ExecuteTime": {
     "end_time": "2025-10-08T11:47:23.315421Z",
     "start_time": "2025-10-08T11:47:23.307149Z"
    }
   },
   "cell_type": "code",
   "source": [
    "text=(\"Full Name: John Doe; Father’s Name: Ahmad Khan; Date of Birth: 1990-01-01; Gender: Male; Nationality: Pakistani; CNIC: 00000-0000000-0 (DUMMY); Passport No: P0000000 (DUMMY); Address: 123 Example Street, Gulberg, Lahore, Punjab, Pakistan; Phone: +92-300-0000000 (DUMMY); Alternate Phone: +92-301-0000001 (DUMMY); Email: john.doe@example.com; Profession: Software Engineer; Employer: ExampleTech Pvt Ltd; Job Title: Senior Backend Developer; Highest Education: BS Computer Science, University of Lahore (2012–2016); Skills: Python, JavaScript, SQL, Machine Learning; Marital Status: Single; Emergency Contact: Ali Khan — +92-300-1111111; LinkedIn: linkedin.com/in/johndoe (DUMMY); Twitter: @johndoe (DUMMY); Personal Website: https://www.johndoe-example.com (DUMMY); Bank: Bank of Example — Account No: 000000000000 (DUMMY); Tax ID: 000-00-0000 (DUMMY); Vehicle: Toyota Corolla 2018 — Plate: ABC-1234 (DUMMY); Allergies/Medical: None listed; Notes: All information above is fictitious and for testing/placeholder use only — not to be used for real identification.\")\n",
    "\n",
    "\n",
    "pattern=r'\\+\\d{2}-\\d{3}-\\d{7}'\n",
    "\n",
    "matches=re.findall(pattern,text)\n",
    "for match in matches:\n",
    "    print(match)"
   ],
   "id": "24e949df98f7a68d",
   "outputs": [
    {
     "name": "stdout",
     "output_type": "stream",
     "text": [
      "+92-300-0000000\n",
      "+92-301-0000001\n",
      "+92-300-1111111\n"
     ]
    }
   ],
   "execution_count": 8
  }
 ],
 "metadata": {
  "kernelspec": {
   "display_name": "Python 3",
   "language": "python",
   "name": "python3"
  },
  "language_info": {
   "codemirror_mode": {
    "name": "ipython",
    "version": 2
   },
   "file_extension": ".py",
   "mimetype": "text/x-python",
   "name": "python",
   "nbconvert_exporter": "python",
   "pygments_lexer": "ipython2",
   "version": "2.7.6"
  }
 },
 "nbformat": 4,
 "nbformat_minor": 5
}
